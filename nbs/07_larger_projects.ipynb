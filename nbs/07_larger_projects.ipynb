{
 "cells": [
  {
   "cell_type": "markdown",
   "metadata": {
    "collapsed": false,
    "pycharm": {
     "name": "#%% md\n"
    }
   },
   "source": [
    "# Building Larger Projects\n",
    "\n",
    "When creating larger projects and DAGs it can be helpful to separate out workflows into different files and then combining the DAGs into one larger DAG."
   ]
  },
  {
   "cell_type": "code",
   "execution_count": null,
   "metadata": {
    "pycharm": {
     "name": "#%%\n"
    }
   },
   "outputs": [],
   "source": [
    "import daglib"
   ]
  },
  {
   "cell_type": "code",
   "execution_count": null,
   "metadata": {
    "pycharm": {
     "name": "#%%\n"
    }
   },
   "outputs": [],
   "source": [
    "subdag1 = daglib.Dag()\n",
    "\n",
    "\n",
    "@subdag1.task()\n",
    "def task_a():\n",
    "    return [1, 2, 3, 4, 5]\n",
    "\n",
    "\n",
    "@subdag1.task(final=True)\n",
    "def task_b(task_a):\n",
    "    return [n ** 2 for n in task_a]\n",
    "\n",
    "\n",
    "subdag1.run()"
   ]
  },
  {
   "cell_type": "code",
   "execution_count": null,
   "metadata": {
    "pycharm": {
     "name": "#%%\n"
    }
   },
   "outputs": [],
   "source": [
    "subdag2 = daglib.Dag()\n",
    "\n",
    "\n",
    "@subdag2.task()\n",
    "def task_c():\n",
    "    return [6, 7, 8, 9, 10]\n",
    "\n",
    "\n",
    "@subdag2.task(final=True)\n",
    "def task_d(task_c):\n",
    "    return [n ** 2 for n in task_c]\n",
    "\n",
    "\n",
    "subdag2.run()"
   ]
  },
  {
   "cell_type": "code",
   "execution_count": null,
   "metadata": {
    "pycharm": {
     "name": "#%%\n"
    }
   },
   "outputs": [],
   "source": [
    "dag = daglib.Dag()\n",
    "dag.add_subdag(subdag1)\n",
    "dag.add_subdag(subdag2)\n",
    "\n",
    "\n",
    "@dag.task(depends_on=[*subdag1.final_tasks, *subdag2.final_tasks], final=True)\n",
    "def combiner(*tasks):\n",
    "    from itertools import chain\n",
    "    return sum(list(chain.from_iterable(tasks)))\n",
    "\n",
    "\n",
    "dag.run()"
   ]
  },
  {
   "cell_type": "code",
   "execution_count": null,
   "metadata": {
    "pycharm": {
     "name": "#%%\n"
    }
   },
   "outputs": [],
   "source": [
    "dag.visualize()"
   ]
  },
  {
   "cell_type": "markdown",
   "metadata": {
    "collapsed": false,
    "pycharm": {
     "name": "#%% md\n"
    }
   },
   "source": [
    "In the example above, when we add the subdags, we do not keep their final task outputs as final outputs for the combined DAG. If we did, the result of `dag.run()` would have been a tuple containing the outputs of `task_b`, `task_d`, `combiner`. For this example we just wanted the final output of `combiner`. If we did want to keep the finals we can do the following:"
   ]
  },
  {
   "cell_type": "code",
   "execution_count": null,
   "metadata": {
    "pycharm": {
     "name": "#%%\n"
    }
   },
   "outputs": [],
   "source": [
    "import daglib"
   ]
  },
  {
   "cell_type": "code",
   "execution_count": null,
   "metadata": {
    "pycharm": {
     "name": "#%%\n"
    }
   },
   "outputs": [],
   "source": [
    "subdag1 = daglib.Dag()\n",
    "\n",
    "\n",
    "@subdag1.task()\n",
    "def task_a():\n",
    "    return [1, 2, 3, 4, 5]\n",
    "\n",
    "\n",
    "@subdag1.task(final=True)\n",
    "def task_b(task_a):\n",
    "    return [n ** 2 for n in task_a]\n",
    "\n",
    "\n",
    "subdag1.run()"
   ]
  },
  {
   "cell_type": "code",
   "execution_count": null,
   "metadata": {
    "pycharm": {
     "name": "#%%\n"
    }
   },
   "outputs": [],
   "source": [
    "subdag2 = daglib.Dag()\n",
    "\n",
    "\n",
    "@subdag2.task()\n",
    "def task_c():\n",
    "    return [6, 7, 8, 9, 10]\n",
    "\n",
    "\n",
    "@subdag2.task(final=True)\n",
    "def task_d(task_c):\n",
    "    return [n ** 2 for n in task_c]\n",
    "\n",
    "\n",
    "subdag2.run()"
   ]
  },
  {
   "cell_type": "code",
   "execution_count": null,
   "metadata": {
    "pycharm": {
     "name": "#%%\n"
    }
   },
   "outputs": [],
   "source": [
    "dag = daglib.Dag()\n",
    "dag.add_subdag(subdag1, keep_finals=True)\n",
    "dag.add_subdag(subdag2, keep_finals=True)\n",
    "\n",
    "\n",
    "@dag.task(depends_on=[*subdag1.final_tasks, *subdag2.final_tasks], final=True)\n",
    "def combiner(*tasks):\n",
    "    from itertools import chain\n",
    "    return sum(list(chain.from_iterable(tasks)))\n",
    "\n",
    "\n",
    "output_of_subdag1, output_of_subdag2, output_of_dag = dag.run()\n",
    "\n",
    "print(output_of_subdag1)\n",
    "print(output_of_subdag2)\n",
    "print(output_of_dag)"
   ]
  },
  {
   "cell_type": "code",
   "execution_count": null,
   "metadata": {
    "pycharm": {
     "name": "#%%\n"
    }
   },
   "outputs": [],
   "source": [
    "dag.visualize()"
   ]
  }
 ],
 "metadata": {
  "kernelspec": {
   "display_name": "Python 3",
   "language": "python",
   "name": "python3"
  },
  "language_info": {
   "codemirror_mode": {
    "name": "ipython",
    "version": 2
   },
   "file_extension": ".py",
   "mimetype": "text/x-python",
   "name": "python",
   "nbconvert_exporter": "python",
   "pygments_lexer": "ipython2",
   "version": "2.7.6"
  }
 },
 "nbformat": 4,
 "nbformat_minor": 0
}
