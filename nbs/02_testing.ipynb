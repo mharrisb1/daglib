{
 "cells": [
  {
   "cell_type": "markdown",
   "metadata": {
    "collapsed": false,
    "pycharm": {
     "name": "#%% md\n"
    }
   },
   "source": [
    "# Testing\n",
    "\n",
    "One of the great things about daglib is how simple it is to create unit tests. No mocking, no fixtures, etc. required. Since the tasks are defined as normal Python functions, they can be tested normally too."
   ]
  },
  {
   "cell_type": "code",
   "execution_count": null,
   "metadata": {
    "pycharm": {
     "name": "#%%\n"
    }
   },
   "outputs": [],
   "source": [
    "import daglib\n",
    "\n",
    "dag = daglib.Dag()\n",
    "\n",
    "\n",
    "@dag.task()\n",
    "def task_1():\n",
    "    return [1, 2, 3, 4, 5]\n",
    "\n",
    "\n",
    "@dag.task(final=True)\n",
    "def task_2(task_1):\n",
    "    return [n * 2 for n in task_1]"
   ]
  },
  {
   "cell_type": "code",
   "execution_count": null,
   "outputs": [],
   "source": [
    "def test_task_2():\n",
    "    assert task_2([1, 2, 3]) == [2, 4, 6]\n",
    "\n",
    "\n",
    "test_task_2()"
   ],
   "metadata": {
    "collapsed": false,
    "pycharm": {
     "name": "#%%\n"
    }
   }
  },
  {
   "cell_type": "markdown",
   "source": [
    "## To Step\n",
    "\n",
    "You can also specify a \"to step\" that the DAG should run to and then stop. This is helpful for debugging purposes."
   ],
   "metadata": {
    "collapsed": false,
    "pycharm": {
     "name": "#%% md\n"
    }
   }
  },
  {
   "cell_type": "code",
   "execution_count": null,
   "outputs": [],
   "source": [
    "import daglib\n",
    "\n",
    "dag = daglib.Dag()\n",
    "\n",
    "\n",
    "@dag.task()\n",
    "def task_1():\n",
    "    return [1, 2, 3, 4, 5]\n",
    "\n",
    "\n",
    "@dag.task(final=True)\n",
    "def task_2(task_1):\n",
    "    return [n * 2 for n in task_1]"
   ],
   "metadata": {
    "collapsed": false,
    "pycharm": {
     "name": "#%%\n"
    }
   }
  },
  {
   "cell_type": "code",
   "execution_count": null,
   "outputs": [],
   "source": [
    "dag.run(to_step=\"task_1\")"
   ],
   "metadata": {
    "collapsed": false,
    "pycharm": {
     "name": "#%%\n"
    }
   }
  },
  {
   "cell_type": "code",
   "execution_count": null,
   "outputs": [],
   "source": [
    "# You can also pass the uncalled task\n",
    "dag.run(to_step=task_1)"
   ],
   "metadata": {
    "collapsed": false,
    "pycharm": {
     "name": "#%%\n"
    }
   }
  },
  {
   "cell_type": "markdown",
   "source": [
    "This will also work with mapping or chunked tasks"
   ],
   "metadata": {
    "collapsed": false,
    "pycharm": {
     "name": "#%% md\n"
    }
   }
  },
  {
   "cell_type": "code",
   "execution_count": null,
   "outputs": [],
   "source": [
    "from itertools import chain\n",
    "\n",
    "import daglib\n",
    "\n",
    "dag = daglib.Dag()\n",
    "\n",
    "\n",
    "@dag.task(result_chunks=2)\n",
    "def task_1():\n",
    "    return [1, 2, 3, 4, 5, 6]\n",
    "\n",
    "\n",
    "@dag.task(map_to=task_1)\n",
    "def task_2(task_1):\n",
    "    return [n * 2 for n in task_1]\n",
    "\n",
    "\n",
    "@dag.task(joins=task_2, final=True)\n",
    "def task_2(*mapped_tasks):\n",
    "    return sum(chain.from_iterable(mapped_tasks))"
   ],
   "metadata": {
    "collapsed": false,
    "pycharm": {
     "name": "#%%\n"
    }
   }
  },
  {
   "cell_type": "code",
   "execution_count": null,
   "outputs": [],
   "source": [
    "dag.run()"
   ],
   "metadata": {
    "collapsed": false,
    "pycharm": {
     "name": "#%%\n"
    }
   }
  },
  {
   "cell_type": "code",
   "execution_count": null,
   "outputs": [],
   "source": [
    "dag.visualize()"
   ],
   "metadata": {
    "collapsed": false,
    "pycharm": {
     "name": "#%%\n"
    }
   }
  },
  {
   "cell_type": "code",
   "execution_count": null,
   "outputs": [],
   "source": [
    "dag.run(to_step=task_1)"
   ],
   "metadata": {
    "collapsed": false,
    "pycharm": {
     "name": "#%%\n"
    }
   }
  },
  {
   "cell_type": "code",
   "execution_count": null,
   "outputs": [],
   "source": [
    "dag.visualize(to_step=task_1)"
   ],
   "metadata": {
    "collapsed": false,
    "pycharm": {
     "name": "#%%\n"
    }
   }
  },
  {
   "cell_type": "code",
   "execution_count": null,
   "outputs": [],
   "source": [
    "dag.run(to_step=task_2)"
   ],
   "metadata": {
    "collapsed": false,
    "pycharm": {
     "name": "#%%\n"
    }
   }
  },
  {
   "cell_type": "code",
   "execution_count": null,
   "outputs": [],
   "source": [
    "dag.visualize(to_step=task_2)"
   ],
   "metadata": {
    "collapsed": false,
    "pycharm": {
     "name": "#%%\n"
    }
   }
  },
  {
   "cell_type": "code",
   "execution_count": null,
   "outputs": [],
   "source": [],
   "metadata": {
    "collapsed": false,
    "pycharm": {
     "name": "#%%\n"
    }
   }
  }
 ],
 "metadata": {
  "kernelspec": {
   "display_name": "Python 3",
   "language": "python",
   "name": "python3"
  },
  "language_info": {
   "codemirror_mode": {
    "name": "ipython",
    "version": 2
   },
   "file_extension": ".py",
   "mimetype": "text/x-python",
   "name": "python",
   "nbconvert_exporter": "python",
   "pygments_lexer": "ipython2",
   "version": "2.7.6"
  }
 },
 "nbformat": 4,
 "nbformat_minor": 0
}