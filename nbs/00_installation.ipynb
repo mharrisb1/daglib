{
 "cells": [
  {
   "cell_type": "markdown",
   "metadata": {
    "collapsed": false,
    "pycharm": {
     "name": "#%% md\n"
    }
   },
   "source": [
    "# Installation\n",
    "\n",
    "## Pip\n",
    "\n",
    "```shell\n",
    "pip install daglib\n",
    "```\n",
    "\n",
    "With graphviz\n",
    "\n",
    "```shell\n",
    "pip install \"daglib[graphiv]\"\n",
    "```"
   ]
  }
 ],
 "metadata": {
  "kernelspec": {
   "display_name": "Python 3",
   "language": "python",
   "name": "python3"
  },
  "language_info": {
   "codemirror_mode": {
    "name": "ipython",
    "version": 2
   },
   "file_extension": ".py",
   "mimetype": "text/x-python",
   "name": "python",
   "nbconvert_exporter": "python",
   "pygments_lexer": "ipython2",
   "version": "2.7.6"
  }
 },
 "nbformat": 4,
 "nbformat_minor": 0
}
