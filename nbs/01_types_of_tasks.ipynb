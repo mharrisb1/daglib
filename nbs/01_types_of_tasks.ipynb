{
 "cells": [
  {
   "cell_type": "markdown",
   "metadata": {
    "collapsed": false,
    "pycharm": {
     "name": "#%% md\n"
    }
   },
   "source": [
    "# Types of Tasks\n",
    "\n",
    "We've already seen the most basic type of task we can register, one that just wraps around an arbitrary function like the one below:"
   ]
  },
  {
   "cell_type": "code",
   "execution_count": null,
   "metadata": {
    "pycharm": {
     "name": "#%%\n"
    }
   },
   "outputs": [],
   "source": [
    "import daglib\n",
    "\n",
    "dag = daglib.Dag()\n",
    "\n",
    "\n",
    "@dag.task()\n",
    "def task_1():\n",
    "    print(\"This is task 1\")"
   ]
  },
  {
   "cell_type": "markdown",
   "metadata": {
    "collapsed": false,
    "pycharm": {
     "name": "#%% md\n"
    }
   },
   "source": [
    "There are other special types of tasks that you can create such as:\n",
    "\n",
    "- Mapping tasks\n",
    "- Joining tasks\n",
    "- Chunked tasks"
   ]
  },
  {
   "cell_type": "markdown",
   "metadata": {
    "collapsed": false,
    "pycharm": {
     "name": "#%% md\n"
    }
   },
   "source": [
    "## Mapping tasks\n",
    "\n",
    "Mapping tasks are dynamically generated from either a static iterable, or from the output of another task that returns an iterable."
   ]
  },
  {
   "cell_type": "markdown",
   "metadata": {
    "collapsed": false,
    "pycharm": {
     "name": "#%% md\n"
    }
   },
   "source": [
    "### Mapping task from static iterable"
   ]
  },
  {
   "cell_type": "code",
   "execution_count": null,
   "metadata": {
    "pycharm": {
     "name": "#%%\n"
    }
   },
   "outputs": [],
   "source": [
    "import daglib\n",
    "\n",
    "dag = daglib.Dag()\n",
    "\n",
    "\n",
    "@dag.task(map_to=[1, 2, 3, 4, 5], final=True)\n",
    "def mapping_task_example(n):\n",
    "    \"\"\"Note that the print statements may not be linear since tasks are run in parallel\"\"\"\n",
    "    print(f\"mapping_task_example function running for {n}\")\n",
    "\n",
    "\n",
    "dag.run()"
   ]
  },
  {
   "cell_type": "code",
   "execution_count": null,
   "metadata": {
    "pycharm": {
     "name": "#%%\n"
    }
   },
   "outputs": [],
   "source": [
    "dag.visualize()"
   ]
  },
  {
   "cell_type": "code",
   "execution_count": null,
   "metadata": {
    "pycharm": {
     "name": "#%%\n"
    }
   },
   "outputs": [],
   "source": [
    "import daglib\n",
    "\n",
    "dag = daglib.Dag()\n",
    "\n",
    "\n",
    "@dag.task(map_to=[1, 2, 3, 4, 5], final=True)\n",
    "def add_two(n):\n",
    "    return n + 2\n",
    "\n",
    "\n",
    "dag.run()"
   ]
  },
  {
   "cell_type": "code",
   "execution_count": null,
   "metadata": {
    "pycharm": {
     "name": "#%%\n"
    }
   },
   "outputs": [],
   "source": [
    "dag.visualize()"
   ]
  },
  {
   "cell_type": "markdown",
   "metadata": {
    "collapsed": false,
    "pycharm": {
     "name": "#%% md\n"
    }
   },
   "source": [
    "### Mapping task from the output of another task\n",
    "\n",
    "Note that the value passed to `map_to` must match the function name of the task to map to."
   ]
  },
  {
   "cell_type": "code",
   "execution_count": null,
   "metadata": {
    "pycharm": {
     "name": "#%%\n"
    }
   },
   "outputs": [],
   "source": [
    "import daglib\n",
    "\n",
    "dag = daglib.Dag()\n",
    "\n",
    "\n",
    "@dag.task(map_to=[1, 2, 3, 4, 5])\n",
    "def add_two(n):\n",
    "    return n + 2\n",
    "\n",
    "\n",
    "@dag.task(map_to=\"add_two\", final=True)\n",
    "def multiply_by_3(n):\n",
    "    return n * 3\n",
    "\n",
    "\n",
    "dag.run()"
   ]
  },
  {
   "cell_type": "code",
   "execution_count": null,
   "metadata": {
    "pycharm": {
     "name": "#%%\n"
    }
   },
   "outputs": [],
   "source": [
    "dag.visualize()"
   ]
  },
  {
   "cell_type": "markdown",
   "metadata": {
    "collapsed": false,
    "pycharm": {
     "name": "#%% md\n"
    }
   },
   "source": [
    "## Joining tasks\n",
    "\n",
    "When you want to condense dynamically generated tasks, likes one created by using the `map_to` argument, or ones created from `result_chunks` argument which we'll see in a little, you'll want to use joining tasks."
   ]
  },
  {
   "cell_type": "code",
   "execution_count": null,
   "metadata": {
    "pycharm": {
     "name": "#%%\n"
    }
   },
   "outputs": [],
   "source": [
    "import daglib\n",
    "\n",
    "dag = daglib.Dag()\n",
    "\n",
    "\n",
    "@dag.task(map_to=[1, 2, 3, 4, 5])\n",
    "def add_two(n):\n",
    "    return n + 2\n",
    "\n",
    "\n",
    "@dag.task(joins=\"add_two\", final=True)\n",
    "def sum_all(*tasks):\n",
    "    return sum(tasks)\n",
    "\n",
    "\n",
    "dag.run()"
   ]
  },
  {
   "cell_type": "code",
   "execution_count": null,
   "metadata": {
    "pycharm": {
     "name": "#%%\n"
    }
   },
   "outputs": [],
   "source": [
    "dag.visualize()"
   ]
  },
  {
   "cell_type": "code",
   "execution_count": null,
   "metadata": {
    "pycharm": {
     "name": "#%%\n"
    }
   },
   "outputs": [],
   "source": [
    "import daglib\n",
    "\n",
    "dag = daglib.Dag()\n",
    "\n",
    "\n",
    "@dag.task(map_to=[1, 2, 3, 4, 5])\n",
    "def add_two(n):\n",
    "    return n + 2\n",
    "\n",
    "\n",
    "@dag.task(map_to=\"add_two\", final=True)\n",
    "def multiply_by_3(n):\n",
    "    return n * 3\n",
    "\n",
    "\n",
    "@dag.task(joins=\"multiply_by_3\", final=True)\n",
    "def sum_all(*tasks):\n",
    "    return sum(tasks)\n",
    "\n",
    "\n",
    "dag.run()"
   ]
  },
  {
   "cell_type": "code",
   "execution_count": null,
   "metadata": {
    "pycharm": {
     "name": "#%%\n"
    }
   },
   "outputs": [],
   "source": [
    "dag.visualize()"
   ]
  },
  {
   "cell_type": "markdown",
   "metadata": {
    "collapsed": false,
    "pycharm": {
     "name": "#%% md\n"
    }
   },
   "source": [
    "## Chunked tasks\n",
    "\n",
    "We've seen how to dynamically spawn tasks from an iterable using `map_to`, but in some cases, you'll want to break up the single result of a task into multiple chunks, so you can operate on them in parallel.\n",
    "\n",
    "**Note**: The return type of a chunked task must be iterable."
   ]
  },
  {
   "cell_type": "code",
   "execution_count": null,
   "metadata": {
    "pycharm": {
     "name": "#%%\n"
    }
   },
   "outputs": [],
   "source": [
    "import daglib\n",
    "\n",
    "dag = daglib.Dag()\n",
    "\n",
    "\n",
    "@dag.task(result_chunks=2, final=True)\n",
    "def example_array():\n",
    "    return [1, 2, 3, 4, 5, 6, 7, 8, 9, 10]\n",
    "\n",
    "\n",
    "dag.run()"
   ]
  },
  {
   "cell_type": "code",
   "execution_count": null,
   "metadata": {
    "pycharm": {
     "name": "#%%\n"
    }
   },
   "outputs": [],
   "source": [
    "dag.visualize()"
   ]
  },
  {
   "cell_type": "markdown",
   "metadata": {
    "collapsed": false,
    "pycharm": {
     "name": "#%% md\n"
    }
   },
   "source": [
    "In the task graph, you can see an extra step be generated called `chunk example_array`. This step takes whatever task has been specified as a chunked task and breaks it up into N-number of chunks (the chunks are not guaranteed to be of the same length, see [numpy.array_split](https://numpy.org/doc/stable/reference/generated/numpy.array_split.html) for more info)."
   ]
  },
  {
   "cell_type": "markdown",
   "metadata": {
    "collapsed": false,
    "pycharm": {
     "name": "#%% md\n"
    }
   },
   "source": [
    "## Putting it all together\n",
    "\n",
    "To start composing more complex workflows, interweaving these task types can produce surprisingly intricate task graphs without much code."
   ]
  },
  {
   "cell_type": "code",
   "execution_count": null,
   "metadata": {
    "pycharm": {
     "name": "#%%\n"
    }
   },
   "outputs": [],
   "source": [
    "import itertools\n",
    "\n",
    "import daglib\n",
    "\n",
    "dag = daglib.Dag()\n",
    "\n",
    "\n",
    "@dag.task(result_chunks=5)\n",
    "def base_array():\n",
    "    return [n for n in range(100)]\n",
    "\n",
    "\n",
    "@dag.task(map_to=\"base_array\")\n",
    "def process_array_chunks(chunk):\n",
    "    return [n * 2 for n in chunk]\n",
    "\n",
    "\n",
    "@dag.task(joins=\"process_array_chunks\", final=True)\n",
    "def sum_all(*chunks):\n",
    "    return sum(itertools.chain.from_iterable(chunks))\n",
    "\n",
    "dag.run()"
   ]
  },
  {
   "cell_type": "code",
   "execution_count": null,
   "metadata": {
    "pycharm": {
     "name": "#%%\n"
    }
   },
   "outputs": [],
   "source": [
    "dag.visualize()"
   ]
  },
  {
   "cell_type": "code",
   "execution_count": null,
   "metadata": {
    "pycharm": {
     "name": "#%%\n"
    }
   },
   "outputs": [],
   "source": []
  }
 ],
 "metadata": {
  "kernelspec": {
   "display_name": "Python 3",
   "language": "python",
   "name": "python3"
  },
  "language_info": {
   "codemirror_mode": {
    "name": "ipython",
    "version": 2
   },
   "file_extension": ".py",
   "mimetype": "text/x-python",
   "name": "python",
   "nbconvert_exporter": "python",
   "pygments_lexer": "ipython2",
   "version": "2.7.6"
  }
 },
 "nbformat": 4,
 "nbformat_minor": 0
}