{
 "cells": [
  {
   "cell_type": "markdown",
   "metadata": {
    "collapsed": false,
    "pycharm": {
     "name": "#%% md\n"
    }
   },
   "source": [
    "# ⚗️ Daglib - Lightweight DAG composition framework\n",
    "\n",
    "[![PyPI version](https://badge.fury.io/py/daglib.svg)](https://badge.fury.io/py/daglib)\n",
    "[![PyPI - Downloads](https://img.shields.io/pypi/dm/daglib)](https://pypi.org/project/daglib/)\n",
    "[![PyPI - Python Version](https://img.shields.io/pypi/pyversions/daglib.svg)](https://pypi.org/project/daglib/)\n",
    "[![Code style: black](https://img.shields.io/badge/code%20style-black-000000.svg)](https://github.com/ambv/black)\n",
    "[![Checked with mypy](https://img.shields.io/badge/mypy-checked-blue.svg)](https://mypy.readthedocs.io/en/stable/)\n",
    "[![pre-commit](https://img.shields.io/badge/pre--commit-enabled-brightgreen?logo=pre-commit&logoColor=white)](https://github.com/pre-commit/pre-commit)\n",
    "\n",
    "Daglib is a lightweight, embeddable parallel task execution library used for turning pure Python functions into executable task graphs.\n",
    "\n",
    "# Installation\n",
    "\n",
    "Core\n",
    "\n",
    "```shell\n",
    "pip install daglib\n",
    "```\n",
    "\n",
    "With visualizations enabled\n",
    "\n",
    "```shell\n",
    "pip install 'daglib[graphviz]'  # static visualizations\n",
    "# or\n",
    "pip install 'daglib[ipycytoscape]'  # interactive visulizations\n",
    "```"
   ]
  },
  {
   "cell_type": "markdown",
   "metadata": {
    "collapsed": false,
    "pycharm": {
     "name": "#%% md\n"
    }
   },
   "source": [
    "# Create your first DAG"
   ]
  },
  {
   "cell_type": "code",
   "execution_count": null,
   "metadata": {
    "pycharm": {
     "name": "#%%\n"
    }
   },
   "outputs": [],
   "source": [
    "import daglib\n",
    "\n",
    "dag = daglib.Dag()\n",
    "\n",
    "\n",
    "@dag.task()\n",
    "def task_1a():\n",
    "    return \"Hello\"\n",
    "\n",
    "\n",
    "@dag.task()\n",
    "def task_1b():\n",
    "    return \"world!\"\n",
    "\n",
    "\n",
    "@dag.task()\n",
    "def task_2(task_1a, task_1b):\n",
    "    return f\"{task_1a}, {task_1b}\"\n",
    "\n",
    "\n",
    "dag.run()"
   ]
  },
  {
   "cell_type": "markdown",
   "metadata": {
    "collapsed": false,
    "pycharm": {
     "name": "#%% md\n"
    }
   },
   "source": [
    "# Beyond the \"Hello, world!\" example\n",
    "\n",
    "For a more involved example, we will create a small pipeline that takes data from four source tables and creates a single reporting table. The data is driver-level information from the current 2022 Formula 1 season. The output will be a pivot table for team-level metrics.\n",
    "\n",
    "## Source Tables\n",
    "\n",
    "1. Team - Team of driver\n",
    "2. Points - Current total Driver's World Championship points for each driver for the season\n",
    "3. Wins - Current number of wins for each driver for the season\n",
    "4. Podiums - Current number of times the driver finished in the top 3 for the season"
   ]
  },
  {
   "cell_type": "code",
   "execution_count": null,
   "metadata": {
    "pycharm": {
     "name": "#%%\n"
    }
   },
   "outputs": [],
   "source": [
    "import pandas as pd\n",
    "import daglib\n",
    "\n",
    "# Ignore. Used to render the DataFrame correctly in the README\n",
    "pd.set_option(\"display.notebook_repr_html\", False)\n",
    "\n",
    "dag = daglib.Dag()\n",
    "\n",
    "\n",
    "@dag.task()\n",
    "def team():\n",
    "    return pd.DataFrame(dict(\n",
    "        driver=[\"Max\", \"Charles\", \"Lewis\", \"Sergio\", \"Carlos\", \"George\"],\n",
    "        team=[\"Red Bull\", \"Ferrari\", \"Mercedes\", \"Red Bull\", \"Ferrari\", \"Mercedes\"],\n",
    "    )).set_index(\"driver\")\n",
    "\n",
    "\n",
    "@dag.task()\n",
    "def points():\n",
    "    return pd.DataFrame(dict(\n",
    "        driver=[\"Max\", \"Charles\", \"Lewis\", \"Sergio\", \"Carlos\", \"George\"],\n",
    "        points=[258, 178, 146, 173, 156, 158]\n",
    "    )).set_index(\"driver\")\n",
    "\n",
    "\n",
    "@dag.task()\n",
    "def wins():\n",
    "    return pd.DataFrame(dict(\n",
    "        driver=[\"Max\", \"Charles\", \"Lewis\", \"Sergio\", \"Carlos\", \"George\"],\n",
    "        wins=[8, 3, 0, 1, 1, 0]\n",
    "    )).set_index(\"driver\")\n",
    "\n",
    "\n",
    "@dag.task()\n",
    "def podiums():\n",
    "    return pd.DataFrame(dict(\n",
    "        driver=[\"Max\", \"Charles\", \"Lewis\", \"Sergio\", \"Carlos\", \"George\"],\n",
    "        podiums=[10, 5, 6, 6, 6, 5]\n",
    "    )).set_index(\"driver\")\n",
    "\n",
    "\n",
    "@dag.task()\n",
    "def driver_metrics(team, points, wins, podiums):\n",
    "    return team.join(points).join(wins).join(podiums)\n",
    "\n",
    "\n",
    "@dag.task()\n",
    "def team_metrics(driver_metrics):\n",
    "    return driver_metrics.groupby(\"team\").sum().sort_values(\"points\", ascending=False)\n",
    "\n",
    "\n",
    "dag.run()"
   ]
  },
  {
   "cell_type": "markdown",
   "metadata": {
    "collapsed": false,
    "pycharm": {
     "name": "#%% md\n"
    }
   },
   "source": [
    "## Task Graph Visualization\n",
    "\n",
    "The DAG we created above will create a task graph that looks like the following\n",
    "\n",
    "![task graph](https://storage.googleapis.com/daglib-image-assets/example-dag.png)"
   ]
  }
 ],
 "metadata": {
  "kernelspec": {
   "display_name": "Python 3",
   "language": "python",
   "name": "python3"
  },
  "language_info": {
   "codemirror_mode": {
    "name": "ipython",
    "version": 2
   },
   "file_extension": ".py",
   "mimetype": "text/x-python",
   "name": "python",
   "nbconvert_exporter": "python",
   "pygments_lexer": "ipython2",
   "version": "2.7.6"
  }
 },
 "nbformat": 4,
 "nbformat_minor": 0
}