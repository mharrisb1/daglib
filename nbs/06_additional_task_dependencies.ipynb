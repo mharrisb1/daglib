{
 "cells": [
  {
   "cell_type": "markdown",
   "metadata": {
    "collapsed": false,
    "pycharm": {
     "name": "#%% md\n"
    }
   },
   "source": [
    "# Additional Task Dependencies\n",
    "\n",
    "We've seen the standard way of defining task dependencies by passing the task name (function name) as an argument in the task that depends on it. This enables optional I/O between the tasks.\n",
    "\n",
    "You can specify additional dependencies to the task using the `depende_on` argument. When you use this feature, you must add the ability for the function to take a variable number of non-keyword arguments (e.g. `*args` or an equivalent)."
   ]
  },
  {
   "cell_type": "code",
   "execution_count": null,
   "metadata": {
    "pycharm": {
     "name": "#%%\n"
    }
   },
   "outputs": [],
   "source": [
    "import daglib\n",
    "\n",
    "dag = daglib.Dag()\n",
    "\n",
    "\n",
    "@dag.task()\n",
    "def task_1a():\n",
    "    print(\"Running task_1a\")\n",
    "\n",
    "\n",
    "@dag.task()\n",
    "def task_1b():\n",
    "    print(\"Running task_1b\")\n",
    "\n",
    "\n",
    "@dag.task(depends_on=[task_1a, task_1b], final=True)\n",
    "def task_2(*tasks):\n",
    "    print(\"Running task_2\")"
   ]
  },
  {
   "cell_type": "code",
   "execution_count": null,
   "metadata": {
    "pycharm": {
     "name": "#%%\n"
    }
   },
   "outputs": [],
   "source": [
    "dag.run()"
   ]
  },
  {
   "cell_type": "code",
   "execution_count": null,
   "metadata": {
    "pycharm": {
     "name": "#%%\n"
    }
   },
   "outputs": [],
   "source": [
    "dag.visualize()"
   ]
  },
  {
   "cell_type": "markdown",
   "metadata": {
    "collapsed": false,
    "pycharm": {
     "name": "#%% md\n"
    }
   },
   "source": [
    "You can also access the output values of a task added to `depends_on`."
   ]
  },
  {
   "cell_type": "code",
   "execution_count": null,
   "metadata": {
    "pycharm": {
     "name": "#%%\n"
    }
   },
   "outputs": [],
   "source": [
    "import daglib\n",
    "\n",
    "dag = daglib.Dag()\n",
    "\n",
    "\n",
    "@dag.task()\n",
    "def task_1a():\n",
    "    return 1\n",
    "\n",
    "\n",
    "@dag.task()\n",
    "def task_1b():\n",
    "    return 2\n",
    "\n",
    "\n",
    "@dag.task(depends_on=[task_1a, task_1b], final=True)\n",
    "def task_2(*tasks):\n",
    "    return sum(tasks)"
   ]
  },
  {
   "cell_type": "code",
   "execution_count": null,
   "metadata": {
    "pycharm": {
     "name": "#%%\n"
    }
   },
   "outputs": [],
   "source": [
    "dag.run()"
   ]
  },
  {
   "cell_type": "code",
   "execution_count": null,
   "metadata": {
    "pycharm": {
     "name": "#%%\n"
    }
   },
   "outputs": [],
   "source": [
    "dag.visualize()"
   ]
  },
  {
   "cell_type": "code",
   "execution_count": null,
   "metadata": {
    "pycharm": {
     "name": "#%%\n"
    }
   },
   "outputs": [],
   "source": []
  }
 ],
 "metadata": {
  "kernelspec": {
   "display_name": "Python 3",
   "language": "python",
   "name": "python3"
  },
  "language_info": {
   "codemirror_mode": {
    "name": "ipython",
    "version": 2
   },
   "file_extension": ".py",
   "mimetype": "text/x-python",
   "name": "python",
   "nbconvert_exporter": "python",
   "pygments_lexer": "ipython2",
   "version": "2.7.6"
  }
 },
 "nbformat": 4,
 "nbformat_minor": 0
}