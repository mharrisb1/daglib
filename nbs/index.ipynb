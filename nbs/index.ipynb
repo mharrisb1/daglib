{
 "cells": [
  {
   "cell_type": "markdown",
   "metadata": {
    "collapsed": false,
    "pycharm": {
     "name": "#%% md\n"
    }
   },
   "source": [
    "# daglib: Lightweight DAG composition framework\n",
    "\n",
    "Created as a lighter alternative to Airflow, Prefect, Dagster and other fully-featured orchestration engines, daglib offers intuitive task creation, task ordering, and task execution for small-to-medium sized workflows.\n",
    "\n",
    "It can run as a standalone application or be embedded in another application to enable more complex use cases like event-driven workflows, conditional workflows, and more.\n",
    "\n",
    "## Features\n",
    "\n",
    "- Lightweight (meant to be deployed on a single machine)\n",
    "- Create tasks from standard Python functions\n",
    "- Task I/O\n",
    "- Fully embeddable in any Python application\n",
    "- Dynamic task spawning\n",
    "- Easy to test\n",
    "\n",
    "## Use Cases\n",
    "\n",
    "daglib can be used as a lightweight alternative to almost any use case that other orchestration engines are used for such as:\n",
    "\n",
    "- ETL/ELT\n",
    "- Batch workflows\n",
    "- Lightweight ML pipelines\n",
    "\n",
    "In addition to the common orchestration use cases, daglib unlocks some additional use cases given its ability to be embedded in other applications:\n",
    "\n",
    "- Event-driven workflows (usually done by invoking a DAG with an API endpoint)\n",
    "- Single container workflows using services such as Google Cloud Run Jobs\n",
    "\n",
    "## Installation\n",
    "\n",
    "```shell\n",
    "pip install daglib\n",
    "```\n",
    "\n",
    "For visualizing the DAG to work, you must also specify to install `graphiv` as an extra dependency\n",
    "\n",
    "```shell\n",
    "pip install \"daglib[graphiv]\"\n",
    "```\n",
    "\n",
    "## Example"
   ]
  },
  {
   "cell_type": "code",
   "execution_count": null,
   "metadata": {
    "pycharm": {
     "name": "#%%\n"
    }
   },
   "outputs": [],
   "source": [
    "import daglib\n",
    "\n",
    "dag = daglib.Dag()\n",
    "\n",
    "\n",
    "@dag.task()\n",
    "def task_1a():\n",
    "    return \"Hello\"\n",
    "\n",
    "\n",
    "@dag.task()\n",
    "def task_1b():\n",
    "    return \"daglib!\"\n",
    "\n",
    "\n",
    "@dag.task(final=True)\n",
    "def tassk_2(task_1a, task_1b):\n",
    "    print(f\"{task_1a}, {task_1b}\")\n",
    "\n",
    "\n",
    "dag.run()"
   ]
  },
  {
   "cell_type": "markdown",
   "metadata": {
    "collapsed": false,
    "pycharm": {
     "name": "#%% md\n"
    }
   },
   "source": [
    "# User Guide\n",
    "```{toctree}\n",
    "---\n",
    "maxdepth: 2\n",
    "---\n",
    "\n",
    "00_getting_started\n",
    "01_types_of_tasks\n",
    "02_testing\n",
    "```"
   ]
  }
 ],
 "metadata": {
  "kernelspec": {
   "display_name": "Python 3",
   "language": "python",
   "name": "python3"
  },
  "language_info": {
   "codemirror_mode": {
    "name": "ipython",
    "version": 2
   },
   "file_extension": ".py",
   "mimetype": "text/x-python",
   "name": "python",
   "nbconvert_exporter": "python",
   "pygments_lexer": "ipython2",
   "version": "2.7.6"
  }
 },
 "nbformat": 4,
 "nbformat_minor": 0
}