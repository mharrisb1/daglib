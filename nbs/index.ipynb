{
 "cells": [
  {
   "cell_type": "markdown",
   "metadata": {
    "collapsed": false,
    "pycharm": {
     "name": "#%% md\n"
    }
   },
   "source": [
    "# daglib: Lightweight DAG composition framework\n",
    "\n",
    "Created as a lighter alternative to Airflow, Prefect, Dagster and other fully-featured orchestration engines, daglib offers intuitive task creation, task ordering, and task execution for small-to-medium sized workflows.\n",
    "\n",
    "## Features\n",
    "\n",
    "- Lightweight (meant to be deployed on a single machine)\n",
    "- Create tasks from standard Python functions\n",
    "- Task I/O\n",
    "- Fully embeddable in any Python application\n",
    "- Dynamic task spawning\n",
    "\n",
    "# User Guide\n",
    "```{toctree}\n",
    "---\n",
    "maxdepth: 2\n",
    "---\n",
    "\n",
    "00_installation\n",
    "01_getting_started\n",
    "```"
   ]
  }
 ],
 "metadata": {
  "kernelspec": {
   "display_name": "Python 3",
   "language": "python",
   "name": "python3"
  },
  "language_info": {
   "codemirror_mode": {
    "name": "ipython",
    "version": 2
   },
   "file_extension": ".py",
   "mimetype": "text/x-python",
   "name": "python",
   "nbconvert_exporter": "python",
   "pygments_lexer": "ipython2",
   "version": "2.7.6"
  }
 },
 "nbformat": 4,
 "nbformat_minor": 0
}