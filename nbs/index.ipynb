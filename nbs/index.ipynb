{
 "cells": [
  {
   "cell_type": "markdown",
   "metadata": {
    "collapsed": false,
    "pycharm": {
     "name": "#%% md\n"
    }
   },
   "source": [
    "<center><h1> ⚗️ daglib - Lightweight DAG composition framework </h1></center>\n",
    "\n",
    "[![MIT](https://img.shields.io/badge/License-MIT-666666.svg)](https://github.com/mharrisb1/daglib/blob/main/LICENSE)\n",
    "[![python version](https://img.shields.io/static/v1?label=python&message=3.10&color=blue)](https://www.python.org/downloads/release/python-3100/)\n",
    "[![Code style: black](https://img.shields.io/badge/code%20style-black-000000.svg)](https://github.com/ambv/black)\n",
    "[![Checked with mypy](https://img.shields.io/badge/mypy-checked-blue.svg)](https://mypy.readthedocs.io/en/stable/)\n",
    "[![pre-commit](https://img.shields.io/badge/pre--commit-enabled-brightgreen?logo=pre-commit&logoColor=white)](https://github.com/pre-commit/pre-commit)\n",
    "\n",
    "# Installation\n",
    "\n",
    "```shell\n",
    "pip install daglib\n",
    "```"
   ]
  },
  {
   "cell_type": "markdown",
   "metadata": {
    "collapsed": false,
    "pycharm": {
     "name": "#%% md\n"
    }
   },
   "source": [
    "# Quickstart"
   ]
  },
  {
   "cell_type": "code",
   "execution_count": null,
   "metadata": {
    "pycharm": {
     "name": "#%%\n"
    }
   },
   "outputs": [],
   "source": [
    "from daglib import Dag\n",
    "\n",
    "dag = Dag()\n",
    "\n",
    "\n",
    "@dag.task()\n",
    "def step_1a():\n",
    "    return \"Hello\"\n",
    "\n",
    "\n",
    "@dag.task()\n",
    "def step_1b():\n",
    "    return \"daglib!\"\n",
    "\n",
    "\n",
    "@dag.task(final=True)\n",
    "def step_2(step_1a, step_1b):\n",
    "    return f\"{step_1a}, {step_1b}\"\n",
    "\n",
    "\n",
    "dag.run()"
   ]
  }
 ],
 "metadata": {
  "kernelspec": {
   "display_name": "Python 3",
   "language": "python",
   "name": "python3"
  },
  "language_info": {
   "codemirror_mode": {
    "name": "ipython",
    "version": 2
   },
   "file_extension": ".py",
   "mimetype": "text/x-python",
   "name": "python",
   "nbconvert_exporter": "python",
   "pygments_lexer": "ipython2",
   "version": "2.7.6"
  }
 },
 "nbformat": 4,
 "nbformat_minor": 0
}