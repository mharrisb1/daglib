{
 "cells": [
  {
   "cell_type": "markdown",
   "metadata": {
    "collapsed": false,
    "pycharm": {
     "name": "#%% md\n"
    }
   },
   "source": [
    "# Profiling\n",
    "\n",
    "To collect metrics on task runs you can set the `profile` flag in the Dag object constructor to true."
   ]
  },
  {
   "cell_type": "code",
   "execution_count": null,
   "metadata": {
    "pycharm": {
     "name": "#%%\n"
    }
   },
   "outputs": [],
   "source": [
    "import time\n",
    "\n",
    "import daglib\n",
    "\n",
    "dag = daglib.Dag(name=\"example\", description=\"This is an example DAG\", profile=True)\n",
    "\n",
    "\n",
    "@dag.task()\n",
    "def task_1():\n",
    "    \"\"\"Do some stuff\"\"\"\n",
    "    time.sleep(1)\n",
    "    return [1, 2, 3]\n",
    "\n",
    "\n",
    "@dag.task(final=True)\n",
    "def task_2(task_1):\n",
    "    \"\"\"Do some other stuff\"\"\"\n",
    "    return list(map(lambda x: x * 2, task_1))"
   ]
  },
  {
   "cell_type": "code",
   "execution_count": null,
   "metadata": {
    "pycharm": {
     "name": "#%%\n"
    }
   },
   "outputs": [],
   "source": [
    "dag.run()"
   ]
  },
  {
   "cell_type": "markdown",
   "metadata": {
    "collapsed": false,
    "pycharm": {
     "name": "#%% md\n"
    }
   },
   "source": [
    "Records containing profiling data for the tasks executed in the DAG run will be written as AVRO records. The files are saved under a file path matching the following pattern:\n",
    "\n",
    "```\n",
    "meta/profiling/{Dag.name}/{Dag.run_id}.avro\n",
    "```"
   ]
  },
  {
   "cell_type": "code",
   "execution_count": null,
   "metadata": {
    "pycharm": {
     "name": "#%%\n"
    }
   },
   "outputs": [],
   "source": [
    "from pathlib import Path\n",
    "\n",
    "list(Path(\"meta/profiling/\").rglob(\"*.avro\"))"
   ]
  },
  {
   "cell_type": "markdown",
   "metadata": {
    "collapsed": false,
    "pycharm": {
     "name": "#%% md\n"
    }
   },
   "source": [
    "## Query Profiling Data\n",
    "\n",
    "To access profiling records, you can query the `MetaDB`. Profiling records are available under the `profiling` table."
   ]
  },
  {
   "cell_type": "code",
   "execution_count": null,
   "metadata": {
    "pycharm": {
     "name": "#%%\n"
    }
   },
   "outputs": [],
   "source": [
    "from pathlib import Path\n",
    "\n",
    "from daglib.metadata import MetaDB\n",
    "\n",
    "db = MetaDB()"
   ]
  },
  {
   "cell_type": "code",
   "execution_count": null,
   "metadata": {
    "pycharm": {
     "name": "#%%\n"
    }
   },
   "outputs": [],
   "source": [
    "db.query(\"\"\"\n",
    "SELECT *\n",
    "FROM profiling\n",
    "\"\"\")"
   ]
  },
  {
   "cell_type": "markdown",
   "metadata": {
    "collapsed": false,
    "pycharm": {
     "name": "#%% md\n"
    }
   },
   "source": [
    "### Drop all data from Metadata DB"
   ]
  },
  {
   "cell_type": "code",
   "execution_count": null,
   "metadata": {
    "pycharm": {
     "name": "#%%\n"
    }
   },
   "outputs": [],
   "source": [
    "db.drop()  # drops all files and directories in the metadata directory\n",
    "\n",
    "list(Path(\"meta/profiling/\").rglob(\"*.avro\"))\n",
    "\n",
    "db.query(\"\"\"\n",
    "SELECT *\n",
    "FROM profiling\n",
    "\"\"\")"
   ]
  },
  {
   "cell_type": "markdown",
   "metadata": {
    "collapsed": false,
    "pycharm": {
     "name": "#%% md\n"
    }
   },
   "source": [
    "### Conducting Analytics on Profiling Data\n",
    "\n",
    "Records for all runs where profiling is enabled will be saved to the metadata directory. All records are loaded to the `profiling` table."
   ]
  },
  {
   "cell_type": "code",
   "execution_count": null,
   "metadata": {
    "pycharm": {
     "name": "#%%\n"
    }
   },
   "outputs": [],
   "source": [
    "import time\n",
    "import random\n",
    "\n",
    "import daglib\n",
    "\n",
    "for _ in range(5):  # create and run the DAG 5 times\n",
    "    dag = daglib.Dag(name=\"example2\", description=\"This is another example DAG\", profile=True)\n",
    "\n",
    "\n",
    "    @dag.task()\n",
    "    def task_1():\n",
    "        \"\"\"Do some stuff\"\"\"\n",
    "        time.sleep(random.randint(1, 3))\n",
    "        return [1, 2, 3]\n",
    "\n",
    "\n",
    "    @dag.task(final=True)\n",
    "    def task_2(task_1):\n",
    "        \"\"\"Do some other stuff\"\"\"\n",
    "        return list(map(lambda x: x * random.randint(1, 10), task_1))\n",
    "\n",
    "\n",
    "    print(dag.run())"
   ]
  },
  {
   "cell_type": "code",
   "execution_count": null,
   "metadata": {
    "pycharm": {
     "name": "#%%\n"
    }
   },
   "outputs": [],
   "source": [
    "db = daglib.metadata.MetaDB()\n",
    "\n",
    "db.query(\"\"\"\n",
    "SELECT AVG(task_runtime) AS avg_task_runtime\n",
    "FROM profiling\n",
    "\"\"\")"
   ]
  },
  {
   "cell_type": "code",
   "execution_count": null,
   "metadata": {
    "pycharm": {
     "name": "#%%\n"
    }
   },
   "outputs": [],
   "source": [
    "db.drop()"
   ]
  },
  {
   "cell_type": "code",
   "execution_count": null,
   "metadata": {
    "pycharm": {
     "name": "#%%\n"
    }
   },
   "outputs": [],
   "source": []
  }
 ],
 "metadata": {
  "kernelspec": {
   "display_name": "Python 3",
   "language": "python",
   "name": "python3"
  },
  "language_info": {
   "codemirror_mode": {
    "name": "ipython",
    "version": 2
   },
   "file_extension": ".py",
   "mimetype": "text/x-python",
   "name": "python",
   "nbconvert_exporter": "python",
   "pygments_lexer": "ipython2",
   "version": "2.7.6"
  }
 },
 "nbformat": 4,
 "nbformat_minor": 0
}
