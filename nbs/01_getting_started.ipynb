{
 "cells": [
  {
   "cell_type": "markdown",
   "metadata": {
    "collapsed": false,
    "pycharm": {
     "name": "#%% md\n"
    }
   },
   "source": [
    "# Getting Started\n",
    "\n",
    "You can register any arbitrary Python function as a task by using the task decorator."
   ]
  },
  {
   "cell_type": "code",
   "execution_count": null,
   "metadata": {
    "pycharm": {
     "name": "#%%\n"
    }
   },
   "outputs": [],
   "source": [
    "import daglib\n",
    "\n",
    "dag = daglib.Dag()\n",
    "\n",
    "\n",
    "@dag.task()\n",
    "def task():\n",
    "    return 1"
   ]
  },
  {
   "cell_type": "markdown",
   "metadata": {
    "collapsed": false,
    "pycharm": {
     "name": "#%% md\n"
    }
   },
   "source": [
    "To return values, you must mark one or more tasks as `final`. This tells the orchestration engine what to return."
   ]
  },
  {
   "cell_type": "code",
   "execution_count": null,
   "metadata": {
    "pycharm": {
     "name": "#%%\n"
    }
   },
   "outputs": [],
   "source": [
    "import daglib\n",
    "\n",
    "dag = daglib.Dag()\n",
    "\n",
    "\n",
    "@dag.task()\n",
    "def task():\n",
    "    return 1\n",
    "\n",
    "\n",
    "# will return empty tuple\n",
    "dag.run()"
   ]
  },
  {
   "cell_type": "code",
   "execution_count": null,
   "metadata": {
    "pycharm": {
     "name": "#%%\n"
    }
   },
   "outputs": [],
   "source": [
    "import daglib\n",
    "\n",
    "dag = daglib.Dag()\n",
    "\n",
    "\n",
    "@dag.task(final=True)\n",
    "def task():\n",
    "    return 1\n",
    "\n",
    "\n",
    "dag.run()"
   ]
  },
  {
   "cell_type": "markdown",
   "metadata": {
    "collapsed": false,
    "pycharm": {
     "name": "#%% md\n"
    }
   },
   "source": [
    "You can specify multiple return values by marking more than one task as final. The result from the DAG run will be e tuple of all results."
   ]
  },
  {
   "cell_type": "code",
   "execution_count": null,
   "metadata": {
    "pycharm": {
     "name": "#%%\n"
    }
   },
   "outputs": [],
   "source": [
    "import daglib\n",
    "\n",
    "dag = daglib.Dag()\n",
    "\n",
    "\n",
    "@dag.task(final=True)\n",
    "def task_1():\n",
    "    return 6\n",
    "\n",
    "\n",
    "@dag.task(final=True)\n",
    "def task_2():\n",
    "    return 3\n",
    "\n",
    "\n",
    "dag.run()"
   ]
  },
  {
   "cell_type": "markdown",
   "metadata": {
    "collapsed": false,
    "pycharm": {
     "name": "#%% md\n"
    }
   },
   "source": [
    "You can pass the output of one task to another as adding the name of the task as a argument in the descendant task."
   ]
  },
  {
   "cell_type": "code",
   "execution_count": null,
   "metadata": {
    "pycharm": {
     "name": "#%%\n"
    }
   },
   "outputs": [],
   "source": [
    "import daglib\n",
    "\n",
    "dag = daglib.Dag()\n",
    "\n",
    "\n",
    "@dag.task()\n",
    "def task_1():\n",
    "    return 6\n",
    "\n",
    "\n",
    "@dag.task(final=True)\n",
    "def task_2(task_1):\n",
    "    return task_1 * 3\n",
    "\n",
    "\n",
    "dag.run()"
   ]
  },
  {
   "cell_type": "markdown",
   "metadata": {
    "collapsed": false,
    "pycharm": {
     "name": "#%% md\n"
    }
   },
   "source": [
    "A task can take the outputs of multiple tasks as inputs"
   ]
  },
  {
   "cell_type": "code",
   "execution_count": null,
   "metadata": {
    "pycharm": {
     "name": "#%%\n"
    }
   },
   "outputs": [],
   "source": [
    "import daglib\n",
    "\n",
    "dag = daglib.Dag()\n",
    "\n",
    "\n",
    "@dag.task()\n",
    "def task_1a():\n",
    "    return 6\n",
    "\n",
    "\n",
    "@dag.task()\n",
    "def task_1b():\n",
    "    return 3\n",
    "\n",
    "\n",
    "@dag.task(final=True)\n",
    "def task_2(task_1a, task_1b):\n",
    "    return task_1a * task_1b\n",
    "\n",
    "\n",
    "dag.run()"
   ]
  },
  {
   "cell_type": "markdown",
   "metadata": {
    "collapsed": false,
    "pycharm": {
     "name": "#%% md\n"
    }
   },
   "source": [
    "To visualize the task graph being computed, you can call `visualize()` on the DAG object."
   ]
  },
  {
   "cell_type": "code",
   "execution_count": null,
   "metadata": {
    "pycharm": {
     "name": "#%%\n"
    }
   },
   "outputs": [],
   "source": [
    "import daglib\n",
    "\n",
    "dag = daglib.Dag()\n",
    "\n",
    "\n",
    "@dag.task()\n",
    "def task_1a():\n",
    "    return 6\n",
    "\n",
    "\n",
    "@dag.task()\n",
    "def task_1b():\n",
    "    return 3\n",
    "\n",
    "\n",
    "@dag.task(final=True)\n",
    "def task_2(task_1a, task_1b):\n",
    "    return task_1a * task_1b\n",
    "\n",
    "\n",
    "dag.visualize()"
   ]
  }
 ],
 "metadata": {
  "kernelspec": {
   "display_name": "Python 3",
   "language": "python",
   "name": "python3"
  },
  "language_info": {
   "codemirror_mode": {
    "name": "ipython",
    "version": 2
   },
   "file_extension": ".py",
   "mimetype": "text/x-python",
   "name": "python",
   "nbconvert_exporter": "python",
   "pygments_lexer": "ipython2",
   "version": "2.7.6"
  }
 },
 "nbformat": 4,
 "nbformat_minor": 0
}
