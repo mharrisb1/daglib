{
 "cells": [
  {
   "cell_type": "markdown",
   "metadata": {
    "collapsed": false,
    "pycharm": {
     "name": "#%% md\n"
    }
   },
   "source": [
    "# Assets\n",
    "\n",
    "For retrieving data assets in a repeatable way, you can use define an `asset`. Technically, assets are just minimalistic tasks that accept no inputs. The real benefit to having this subset of tasks as their own object is for project organization.\n",
    "\n",
    "An example of using this in the wild could be to have a project layout like:\n",
    "\n",
    "```\n",
    "workflows/\n",
    "    |\n",
    "    |__ workflow1.py\n",
    "    |__ workflow2.py\n",
    "assets/\n",
    "    |\n",
    "    |__ postgres.py\n",
    "    |__ snowflake.py\n",
    "```"
   ]
  },
  {
   "cell_type": "code",
   "execution_count": null,
   "metadata": {
    "pycharm": {
     "name": "#%%\n"
    }
   },
   "outputs": [],
   "source": [
    "from daglib import asset, Dag\n",
    "\n",
    "\n",
    "@asset\n",
    "def table():\n",
    "    return [\n",
    "        (1, 2, 3, 4, 5),  # row 1\n",
    "        (6, 7, 8, 9, 10),  # row 2\n",
    "        (11, 12, 13, 14, 15),  # row 3\n",
    "        (16, 17, 18, 19, 20),  # row 4\n",
    "        (21, 22, 23, 24, 25),  # row 5\n",
    "        (26, 27, 28, 29, 30),  # row 6\n",
    "    ]\n",
    "\n",
    "\n",
    "table()"
   ]
  },
  {
   "cell_type": "code",
   "execution_count": null,
   "metadata": {
    "pycharm": {
     "name": "#%%\n"
    }
   },
   "outputs": [],
   "source": [
    "dag1 = Dag(name=\"dag1\")\n",
    "dag1.add_asset(table)\n",
    "\n",
    "\n",
    "@dag1.task(final=True)\n",
    "def count_rows(table):\n",
    "    return len(table)"
   ]
  },
  {
   "cell_type": "code",
   "execution_count": null,
   "metadata": {
    "pycharm": {
     "name": "#%%\n"
    }
   },
   "outputs": [],
   "source": [
    "dag1.run()"
   ]
  },
  {
   "cell_type": "code",
   "execution_count": null,
   "metadata": {
    "pycharm": {
     "name": "#%%\n"
    }
   },
   "outputs": [],
   "source": [
    "dag1.visualize()"
   ]
  },
  {
   "cell_type": "code",
   "execution_count": null,
   "metadata": {
    "pycharm": {
     "name": "#%%\n"
    }
   },
   "outputs": [],
   "source": [
    "dag2 = Dag(name=\"dag2\")\n",
    "dag2.add_asset(table)\n",
    "\n",
    "\n",
    "@dag2.task(final=True)\n",
    "def count_cols(table):\n",
    "    return len(table[0])"
   ]
  },
  {
   "cell_type": "code",
   "execution_count": null,
   "metadata": {
    "pycharm": {
     "name": "#%%\n"
    }
   },
   "outputs": [],
   "source": [
    "dag2.run()"
   ]
  },
  {
   "cell_type": "code",
   "execution_count": null,
   "metadata": {
    "pycharm": {
     "name": "#%%\n"
    }
   },
   "outputs": [],
   "source": [
    "dag2.visualize()"
   ]
  },
  {
   "cell_type": "code",
   "execution_count": null,
   "metadata": {
    "pycharm": {
     "name": "#%%\n"
    }
   },
   "outputs": [],
   "source": [
    "dag3 = Dag(name=\"dag3\")\n",
    "dag3.add_asset(table)\n",
    "\n",
    "\n",
    "@dag3.task(final=True)\n",
    "def get_table_shape(table):\n",
    "    return len(table), len(table[0])"
   ]
  },
  {
   "cell_type": "code",
   "execution_count": null,
   "metadata": {
    "pycharm": {
     "name": "#%%\n"
    }
   },
   "outputs": [],
   "source": [
    "dag3.run()"
   ]
  },
  {
   "cell_type": "code",
   "execution_count": null,
   "metadata": {
    "pycharm": {
     "name": "#%%\n"
    }
   },
   "outputs": [],
   "source": [
    "dag3.visualize()"
   ]
  }
 ],
 "metadata": {
  "kernelspec": {
   "display_name": "Python 3",
   "language": "python",
   "name": "python3"
  },
  "language_info": {
   "codemirror_mode": {
    "name": "ipython",
    "version": 2
   },
   "file_extension": ".py",
   "mimetype": "text/x-python",
   "name": "python",
   "nbconvert_exporter": "python",
   "pygments_lexer": "ipython2",
   "version": "2.7.6"
  }
 },
 "nbformat": 4,
 "nbformat_minor": 0
}